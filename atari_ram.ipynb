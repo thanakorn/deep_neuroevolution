{
 "metadata": {
  "language_info": {
   "codemirror_mode": {
    "name": "ipython",
    "version": 3
   },
   "file_extension": ".py",
   "mimetype": "text/x-python",
   "name": "python",
   "nbconvert_exporter": "python",
   "pygments_lexer": "ipython3",
   "version": 3
  },
  "orig_nbformat": 2
 },
 "nbformat": 4,
 "nbformat_minor": 2,
 "cells": [
  {
   "cell_type": "code",
   "execution_count": null,
   "metadata": {},
   "outputs": [],
   "source": [
    "# %% \n",
    "import gym\n",
    "import torch\n",
    "\n",
    "from genetic_algorithm.genotype import TensorGenotype\n",
    "from genetic_algorithm.network_schema import *\n",
    "from genetic_algorithm.ga import SimpleGA\n",
    "from genetic_algorithm.fitness_evaluator import GymFitnessEvaluator\n",
    "\n",
    "device = torch.device('cuda' if torch.cuda.is_available() else 'cpu')\n",
    "env_id = 'Pong-ram-v0'\n",
    "env = gym.make(env_id)\n",
    "\n",
    "num_populations = 20\n",
    "num_episodes_eval = 1\n",
    "network_schema = {\n",
    "                    'fc1': LinearSchema(env.observation_space.shape[0], 1024),\n",
    "                    'relu1': ActivationSchema('ReLU'),\n",
    "                    'fc2': LinearSchema(1024,256),\n",
    "                    'relu2': ActivationSchema('ReLU'),\n",
    "                    'fc3': LinearSchema(256,32),\n",
    "                    'relu3': ActivationSchema('ReLU'),\n",
    "                    'output': LinearSchema(32, env.action_space.n)\n",
    "                 }\n",
    "\n",
    "evaluator = GymFitnessEvaluator(env_name=env_id, num_episodes=num_episodes_eval, \n",
    "                                max_iterations=2000, device=device, visualize=True)\n",
    "ga = SimpleGA(num_populations=num_populations,fitness_evaluator=evaluator, \n",
    "              selection_pressure=0.1, mutation_prob=0.01, mutation_power=0.02, crossover_prob=0.5)\n",
    "init_populations = [TensorGenotype(network_schema, torch.nn.init.xavier_normal_) for i in range(num_populations)]\n",
    "\n",
    "# %%\n",
    "solution = ga.run(populations=init_populations, num_generations=50, num_workers=None)\n",
    "\n"
   ]
  },
  {
   "cell_type": "code",
   "execution_count": null,
   "metadata": {},
   "outputs": [],
   "source": []
  }
 ]
}